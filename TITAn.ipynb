{
  "nbformat": 4,
  "nbformat_minor": 0,
  "metadata": {
    "colab": {
      "name": "TITAn.ipynb",
      "provenance": [],
      "collapsed_sections": [],
      "authorship_tag": "ABX9TyOhpQCgQPNa5VqRQqzv9fEZ",
      "include_colab_link": true
    },
    "kernelspec": {
      "name": "python3",
      "display_name": "Python 3"
    }
  },
  "cells": [
    {
      "cell_type": "markdown",
      "metadata": {
        "id": "view-in-github",
        "colab_type": "text"
      },
      "source": [
        "<a href=\"https://colab.research.google.com/github/sujinv/Code/blob/master/TITAn.ipynb\" target=\"_parent\"><img src=\"https://colab.research.google.com/assets/colab-badge.svg\" alt=\"Open In Colab\"/></a>"
      ]
    },
    {
      "cell_type": "code",
      "metadata": {
        "id": "IiaTeHOl-DSN",
        "colab_type": "code",
        "colab": {
          "base_uri": "https://localhost:8080/",
          "height": 224
        },
        "outputId": "d695dbaf-1efd-48b0-bf5d-10546e251b76"
      },
      "source": [
        "pip install yahoofinancials"
      ],
      "execution_count": 2,
      "outputs": [
        {
          "output_type": "stream",
          "text": [
            "Collecting yahoofinancials\n",
            "  Downloading https://files.pythonhosted.org/packages/46/be/44b0bc468a22e114f99dc6a1211f848e4ab7955f3262df589cea98f03cfd/yahoofinancials-1.5.tar.gz\n",
            "Requirement already satisfied: beautifulsoup4 in /usr/local/lib/python3.6/dist-packages (from yahoofinancials) (4.6.3)\n",
            "Requirement already satisfied: pytz in /usr/local/lib/python3.6/dist-packages (from yahoofinancials) (2018.9)\n",
            "Building wheels for collected packages: yahoofinancials\n",
            "  Building wheel for yahoofinancials (setup.py) ... \u001b[?25l\u001b[?25hdone\n",
            "  Created wheel for yahoofinancials: filename=yahoofinancials-1.5-cp36-none-any.whl size=15195 sha256=24a6a03557d7a71a3b099c59a47b7a60fb24684d10bcc3337a46304b64970d60\n",
            "  Stored in directory: /root/.cache/pip/wheels/42/15/e7/240c5cdc8782b9479ba73404640a3be57bb4053a5c3edd6be5\n",
            "Successfully built yahoofinancials\n",
            "Installing collected packages: yahoofinancials\n",
            "Successfully installed yahoofinancials-1.5\n"
          ],
          "name": "stdout"
        }
      ]
    },
    {
      "cell_type": "code",
      "metadata": {
        "id": "6s9d-lcMATOj",
        "colab_type": "code",
        "colab": {}
      },
      "source": [
        "import pandas as pd\n",
        "import numpy as np\n",
        "from sklearn.linear_model import LinearRegression\n",
        "from yahoofinancials import YahooFinancials\n",
        "import matplotlib.pyplot as plt\n"
      ],
      "execution_count": 21,
      "outputs": []
    },
    {
      "cell_type": "code",
      "metadata": {
        "id": "WWRBIw-oC3f1",
        "colab_type": "code",
        "colab": {}
      },
      "source": [
        "def Predictor(lst,months):\n",
        "  total_training=lst[0:1-months]\n",
        "  total_validation=lst[1-months:]\n",
        "  \n",
        "  df=pd.DataFrame(total_training,dtype='float')\n",
        "  df.dropna(inplace=True)\n",
        "  XTrain=df.iloc[:,:-1]\n",
        "  yTrain=df.iloc[:,[-1]]\n",
        "\n",
        "  clf=LinearRegression()\n",
        "  clf.fit(XTrain,yTrain)\n",
        "\n",
        "  print(\"\\n\\n\")\n",
        "\n",
        "  dFp=pd.DataFrame(total_validation,dtype='float')\n",
        "  XValidation=dFp.iloc[:,:-1]\n",
        "  YValidation=dFp.iloc[:,[-1]]\n",
        "\n",
        "  print(\"\\nPrediction\")\n",
        "  YPrediction=clf.predict(XValidation)\n",
        "\n",
        "  print(\"\\nOriginal\")\n",
        "  print(YValidation)\n",
        "\n",
        "  print(\"\\nPrediction\")\n",
        "  print(YPrediction)\n",
        "\n",
        "  \n",
        "\n"
      ],
      "execution_count": 64,
      "outputs": []
    },
    {
      "cell_type": "code",
      "metadata": {
        "id": "5Ojah6dybxYc",
        "colab_type": "code",
        "colab": {}
      },
      "source": [
        ""
      ],
      "execution_count": null,
      "outputs": []
    },
    {
      "cell_type": "code",
      "metadata": {
        "id": "Ved11Yn7G18m",
        "colab_type": "code",
        "colab": {
          "base_uri": "https://localhost:8080/",
          "height": 289
        },
        "outputId": "f7a42754-4659-4659-8141-8f74e93411da"
      },
      "source": [
        "Stock=input(\"Enter the Stock\")\n",
        "highs=[]\n",
        "lows=[]\n",
        "opens=[]\n",
        "closes=[]\n",
        "yahoo_financials=YahooFinancials(str(Stock))\n",
        "stats=yahoo_financials.get_historical_price_data(\"2010-01-10\",\"2020-08-10\",\"daily\")\n",
        "i=0\n",
        "for date in stats[str(Stock)][\"prices\"]:\n",
        "  if i==0:\n",
        "    i=i+1\n",
        "    continue\n",
        "  highs.append(date['high'])\n",
        "  lows.append(date['low'])\n",
        "  opens.append(date['open'])\n",
        "  closes.append(date['close'])\n",
        "  i=i+1\n",
        "print(\"number of datapoints\",i)\n",
        "\n",
        "\n",
        "total=[]\n",
        "totalopens=[]\n",
        "for j in range(4):\n",
        "  opens.append(0)\n",
        "\n",
        "for i in range(i-1):\n",
        "  total.append([opens[i],lows[i],highs[i],closes[i]])\n",
        "\n",
        "Predictor(total,3)"
      ],
      "execution_count": 186,
      "outputs": [
        {
          "output_type": "stream",
          "text": [
            "Enter the StockMANAPPURAM.NS\n",
            "number of datapoints 2497\n",
            "\n",
            "\n",
            "\n",
            "\n",
            "Prediction\n",
            "\n",
            "Original\n",
            "            3\n",
            "0  154.800003\n",
            "1  161.600006\n",
            "\n",
            "Prediction\n",
            "[[162.34694359]\n",
            " [160.00211947]]\n"
          ],
          "name": "stdout"
        }
      ]
    },
    {
      "cell_type": "code",
      "metadata": {
        "id": "40n-Eewwik5N",
        "colab_type": "code",
        "colab": {}
      },
      "source": [
        "###Final Prediction"
      ],
      "execution_count": 157,
      "outputs": []
    },
    {
      "cell_type": "code",
      "metadata": {
        "id": "d_KLHXlAdycT",
        "colab_type": "code",
        "colab": {
          "base_uri": "https://localhost:8080/",
          "height": 102
        },
        "outputId": "b93ae081-42c5-44f5-eeaa-0925b67dfa9e"
      },
      "source": [
        "#Muthoot \n",
        "#1,183.95\t1,189.90\t1,162.20\t\n",
        "xpredict=[]\n",
        "xpredict.append([1183.95,1162.20,1189.90])\n",
        "df1=pd.DataFrame(xpredict[1-2:],dtype='float')\n",
        "df1.dropna(inplace=True)\n",
        "XPredict1=df1.iloc[:,:]\n",
        "print(\"Predict for MuTHOOT today \\n \",XPredict1)\n",
        "YPredict1=clf.predict(XPredict1)\n",
        "print(\"Prediction\\n\",YPredict1)"
      ],
      "execution_count": 178,
      "outputs": [
        {
          "output_type": "stream",
          "text": [
            "Predict for MuTHOOT today \n",
            "           0       1       2\n",
            "0  1183.95  1162.2  1189.9\n",
            "Prediction\n",
            " [[1172.53355067]]\n"
          ],
          "name": "stdout"
        }
      ]
    },
    {
      "cell_type": "code",
      "metadata": {
        "id": "pve2gzn7i38Q",
        "colab_type": "code",
        "colab": {
          "base_uri": "https://localhost:8080/",
          "height": 102
        },
        "outputId": "34e6f70a-ed20-4d02-cb69-c1283418b873"
      },
      "source": [
        "#Todays Prediciton\n",
        "#for INFY\n",
        "#[opens[i],lows[i],highs[i],closes[i]\n",
        "\n",
        "#xPredict=[1074.00,1048.60,1087.70]\n",
        "xpredict=[]\n",
        "\n",
        "xpredict.append([949.90,946.00,962.00])\n",
        "df1=pd.DataFrame(xpredict[1-2:],dtype='float')\n",
        "df1.dropna(inplace=True)\n",
        "XPredict1=df1.iloc[:,:]\n",
        "print(\"Predict for\\n \",XPredict1)\n",
        "YPredict1=clf.predict(XPredict1)\n",
        "print(\"Prediction\\n\",YPredict1)"
      ],
      "execution_count": 185,
      "outputs": [
        {
          "output_type": "stream",
          "text": [
            "Predict for\n",
            "         0      1      2\n",
            "0  949.9  946.0  962.0\n",
            "Prediction\n",
            " [[956.28676013]]\n"
          ],
          "name": "stdout"
        }
      ]
    },
    {
      "cell_type": "code",
      "metadata": {
        "id": "RO78Jq5TxtBB",
        "colab_type": "code",
        "colab": {
          "base_uri": "https://localhost:8080/",
          "height": 102
        },
        "outputId": "ad4edc4a-9f89-4ecd-dd81-d8e6c04f5726"
      },
      "source": [
        "#Todays Prediciton\n",
        "#for MANAPPURAM\n",
        "#[opens[i],lows[i],highs[i],closes[i]\n",
        "\n",
        "#xPredict=[159.40,156.30,160.05]\n",
        "xpredict=[]\n",
        "\n",
        "xpredict.append([159.40,156.30,160.05])\n",
        "df1=pd.DataFrame(xpredict[1-2:],dtype='float')\n",
        "df1.dropna(inplace=True)\n",
        "XPredict1=df1.iloc[:,:]\n",
        "print(\"Predict for\\n \",XPredict1)\n",
        "YPredict1=clf.predict(XPredict1)\n",
        "print(\"Prediction\\n\",YPredict1)"
      ],
      "execution_count": 188,
      "outputs": [
        {
          "output_type": "stream",
          "text": [
            "Predict for\n",
            "         0      1       2\n",
            "0  159.4  156.3  160.05\n",
            "Prediction\n",
            " [[157.24711332]]\n"
          ],
          "name": "stdout"
        }
      ]
    }
  ]
}